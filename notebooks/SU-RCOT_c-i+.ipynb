{
 "cells": [
  {
   "attachments": {},
   "cell_type": "markdown",
   "metadata": {},
   "source": [
    "# RCOT on SUTs (c<i)"
   ]
  },
  {
   "attachments": {},
   "cell_type": "markdown",
   "metadata": {},
   "source": [
    "This notebook starts from an exemplary supply-use table (SUT) that features fewer commodities than industries (c>i). The cases of [c=i](./SU-RCOT_c=i.ipynb) and [c>i](./SU-RCOT_c+i-.ipynb) are illustrated in separate notebooks. All notebooks share the same basic structure. That is, an illustrative SUT is imported from a spreadsheet; solved for the cases of factor constraints being absent or present; solved when new technologies are introduced; and compared to a solution relying on constructs.\n",
    "\n",
    "Since the RCOT models allow for many degrees of freedom, certain aspects are highlighted only for either of the three SUT setups. For example, the issue of monetary or mixed commodity data is illustrated only in the [c=i](./SU-RCOT_c=i.ipynb) notebook. The overlapping parts, however, are explained in detail here and only briefly sketched out for the other two setups. Here, for the most part, we will look at the coefficient formulations of the RCOT models.\n",
    "\n",
    "<a id='toc'></a>\n",
    "\n",
    "The outline of the current notebook is as follows:\n",
    "\n",
    "\n",
    "0. [Data import and set-up](#data-import)\n",
    "1. [Empirical system in coefficent form w/out factor constraints](#emp_0f)\\\n",
    "    1.1 [As-is solution by inversion (use of constructs)](#emp_0f_inv)\\\n",
    "    1.2 [As-is solution via linear program](#emp_0f_lp)\\\n",
    "    1.3 [Increasing final demand](#emp_0f_lp_e+)\\\n",
    "    1.4 [Reducing final demand](#emp_0f_lp_e-)\\\n",
    "    1.5 [Changing factor use or factor prices](#emp_0f_lp_pi)\n",
    "2. [Empirical system in coefficient form with factor constraints](#emp_f_lp)\\\n",
    "    2.1 [Increasing final demand](#emp_f_lp_e+)\\\n",
    "    2.2 [Reducing final demand](#emp_f_lp_e-)\\\n",
    "    2.3 [Increasing factor availability](#emp_f_lp_f+)\\\n",
    "    2.4 [Reducing factor availability](#emp_f_lp_f-)\n",
    "3. [Empirical system in absolute form with factor constraints](#emp_abs)\n",
    "4. [Adding technology alternatives to the SUT system](#add_jp)\\\n",
    "    4.1 [An alternative for by-product production](#add_jp_bp)\\\n",
    "    4.2 [An alternative for main-product production with secondary products](#add_jp_1mp_jp)\\\n",
    "    4.3 [Multiple alternatives for main-product production](#add_jp_3mp_jp)\\\n",
    "    4.4 [Multiple alternatives for multiple technologies](#add_jp_nmp_sp-jp)    \n",
    "5. [New alternatives for single production](#add_sp)"
   ]
  },
  {
   "attachments": {},
   "cell_type": "markdown",
   "metadata": {},
   "source": [
    "<a id='data-import'></a>"
   ]
  },
  {
   "attachments": {},
   "cell_type": "markdown",
   "metadata": {},
   "source": [
    "## 0. Data import and set-up"
   ]
  },
  {
   "cell_type": "code",
   "execution_count": 1,
   "metadata": {},
   "outputs": [],
   "source": [
    "using LinearAlgebra\n",
    "using JuMP\n",
    "using GLPK\n",
    "using XLSX\n",
    "\n",
    "include(\"../src/SUT_structure.jl\") # Used for the SUT setup <sut = SUT.structure(...)>\n",
    "include(\"../src/Constructs.jl\") # Used to derive single-production systems from the SUT setup, e.g. as <itc = Constructs.ITC(sut)>\n",
    "include(\"../src/Auxiliary.jl\") # Includes some helper functions\n",
    "include(\"../src/RCOT_data.jl\") # Sets up the data structure for RCOT modelling based on SUT.structure or Constructs.construct\n",
    "include(\"../src/RCOT_model.jl\"); # Builds and solves the RCOT models"
   ]
  },
  {
   "cell_type": "code",
   "execution_count": 2,
   "metadata": {},
   "outputs": [
    {
     "data": {
      "text/plain": [
       "XLSXFile(\"20230525_SUT_c-i+.xlsx\") containing 4 Worksheets\n",
       "            sheetname size          range        \n",
       "-------------------------------------------------\n",
       "                    V 6x4           A1:D6        \n",
       "                  U+e 4x7           A1:G4        \n",
       "                    F 5x6           A1:F5        \n",
       "                   pi 5x2           A1:B5        \n"
      ]
     },
     "execution_count": 2,
     "metadata": {},
     "output_type": "execute_result"
    }
   ],
   "source": [
    "# Load the workbook\n",
    "xf = XLSX.readxlsx(\"../data/20230525_SUT_c-i+.xlsx\")"
   ]
  },
  {
   "cell_type": "code",
   "execution_count": 3,
   "metadata": {},
   "outputs": [],
   "source": [
    "# Get data from all worksheets and convert it to float64 data type\n",
    "V = convert(Matrix{Float64}, xf[\"V!B2:D6\"])\n",
    "U = convert(Matrix{Float64}, xf[\"U+e!B2:F4\"])\n",
    "e = convert(Matrix{Float64}, xf[\"U+e!G2:G4\"])\n",
    "F = convert(Matrix{Float64}, xf[\"F!B2:F5\"])\n",
    "pii = convert(Matrix{Float64}, xf[\"pi!B2:B5\"])\n",
    "t = xf[\"V!A1\"];"
   ]
  },
  {
   "attachments": {},
   "cell_type": "markdown",
   "metadata": {},
   "source": [
    "As per the imported spreadsheets, $(V,U,e)$ are given in monetary units meaning that the commodity prices $p=i$. $F$ is in physical units and $\\pi$ are the factor prices. As the system is rectangular (c<i), it cannot be solved for total output by inversion. Hence, either we solve via a linear program or we reallocate the by-products via constructs and thus allow for solution by inversion. For convenience, we pack the SUT system into an object that will be used in the following."
   ]
  },
  {
   "cell_type": "code",
   "execution_count": 4,
   "metadata": {},
   "outputs": [
    {
     "name": "stderr",
     "output_type": "stream",
     "text": [
      "\u001b[36m\u001b[1m[ \u001b[22m\u001b[39m\u001b[36m\u001b[1mInfo: \u001b[22m\u001b[39mA structure for supply-use elements was set up. Changing individual elements will not change others automatically.\n"
     ]
    }
   ],
   "source": [
    "sut = SUT.structure(U,V,F,e,pii;t);"
   ]
  },
  {
   "cell_type": "code",
   "execution_count": 5,
   "metadata": {},
   "outputs": [
    {
     "data": {
      "text/plain": [
       "1×1 Matrix{Float64}:\n",
       " 123.99999999999999"
      ]
     },
     "execution_count": 5,
     "metadata": {},
     "output_type": "execute_result"
    }
   ],
   "source": [
    "# For completeness, let's check the total factor costs (in this unconstrained system)\n",
    "sut.pii'*sut.f"
   ]
  },
  {
   "cell_type": "markdown",
   "metadata": {},
   "source": [
    "Back to [table of contents](#toc)\n",
    "<a id='emp_0f'></a>"
   ]
  },
  {
   "attachments": {},
   "cell_type": "markdown",
   "metadata": {},
   "source": [
    "## 1. Empirical system w/out factor constraint: solution by LP\n",
    "Since the given SUT-system is again rectangular, we cannot perform imputation or impact analyses with it directly by inversion. Instead, we solve it again through an LP and by inversion after having applied constructs."
   ]
  },
  {
   "attachments": {},
   "cell_type": "markdown",
   "metadata": {},
   "source": [
    "Back to [table of contents](#toc)\n",
    "<a id='emp_0f_inv'></a>"
   ]
  },
  {
   "attachments": {},
   "cell_type": "markdown",
   "metadata": {},
   "source": [
    "### 1.1 Solution by inversion via constructs\n",
    "Various constructs exits to reallocate by-products. Not all of them work for rectangular SUT-systems, though. For completeness, we introduce the Models A (commodity technology construct, CTC), B (industry technology construct, ITC), C (fixed industry sales structure construct, FISC), and D (fixed product sales structure construct, FPSC) here, although only two of them will be appropriate in the present case of more commodities than industries. We compute the solution here via the ITC and compare it to the commodity output $\\bm{q}$ taken from the SUT.  We do the same for the total factor use $\\bm{f}$."
   ]
  },
  {
   "cell_type": "code",
   "execution_count": 6,
   "metadata": {},
   "outputs": [],
   "source": [
    "itc = Constructs.ITC(sut);"
   ]
  },
  {
   "cell_type": "code",
   "execution_count": 7,
   "metadata": {},
   "outputs": [
    {
     "data": {
      "text/plain": [
       "true"
      ]
     },
     "execution_count": 7,
     "metadata": {},
     "output_type": "execute_result"
    }
   ],
   "source": [
    "# Compute the total output and compare it to the total commodity output; a tolerance measure is required to account for precision deviations\n",
    "x = itc.L*itc.y\n",
    "isapprox(x, sut.q, rtol = 1e-10)"
   ]
  },
  {
   "cell_type": "code",
   "execution_count": 8,
   "metadata": {},
   "outputs": [
    {
     "data": {
      "text/plain": [
       "true"
      ]
     },
     "execution_count": 8,
     "metadata": {},
     "output_type": "execute_result"
    }
   ],
   "source": [
    "# The corresponding factor use is calculated and compared to the empirical data; yet again a tolerance measure is required\n",
    "f = itc.R*itc.L*itc.y\n",
    "isapprox(f, sut.f, rtol = 1e-10)"
   ]
  },
  {
   "attachments": {},
   "cell_type": "markdown",
   "metadata": {},
   "source": [
    "Back to [table of contents](#toc)\n",
    "<a id='emp_0f_lp'></a>"
   ]
  },
  {
   "attachments": {},
   "cell_type": "markdown",
   "metadata": {},
   "source": [
    "### 1.2 Solution by LP\n",
    "Let us now solve the system via a linear program.\n",
    "\n",
    "**Employing SUT coefficients**\n",
    "\n",
    "We start with a model in coefficient form."
   ]
  },
  {
   "cell_type": "code",
   "execution_count": 9,
   "metadata": {},
   "outputs": [],
   "source": [
    "# To set up our initial primal, we write:\n",
    "primal = Model(GLPK.Optimizer)\n",
    "\n",
    "# Define the optimisation model\n",
    "@variable(primal, g_star[1:size(V,1)] >= 0, base_name = \"g*\")\n",
    "@objective(primal, Min, sum(sut.pii'*sut.S*g_star))\n",
    "@constraint(primal, c1, (sut.C-sut.B)*(g_star) .>= sut.e);"
   ]
  },
  {
   "cell_type": "code",
   "execution_count": 10,
   "metadata": {},
   "outputs": [
    {
     "name": "stdout",
     "output_type": "stream",
     "text": [
      "termination_status(model) = MathOptInterface.OPTIMAL\n",
      "primal_status(model) = MathOptInterface.FEASIBLE_POINT\n",
      "dual_status(model) = MathOptInterface.FEASIBLE_POINT\n",
      "objective_value(model) = 124.0\n",
      "value.(c1) = [51.0; 42.0; 31.0;;]\n",
      "value.(g_star) = [16.925829775953638, 124.96554750130262, 122.35070431547483, 0.0, 0.0]\n"
     ]
    }
   ],
   "source": [
    "# Run the model and show results\n",
    "optimize!(primal)\n",
    "model_solution(primal)\n",
    "@show value.(c1)\n",
    "@show value.(g_star);"
   ]
  },
  {
   "attachments": {},
   "cell_type": "markdown",
   "metadata": {},
   "source": [
    "We can see in the output that the model found a feasible solution for both the primal and dual, with the resulting objective value being $124$, as we derived by calculating $\\bm{\\pi' f}$. However, the modelled industry output is different from the one we calculated directly from the SUT-system earlier. The reason for this is the combined effect of by-products being present and the system being rectangular without any factor constraints being present. It is particularly such factor constraints that enable the substitution/ complementation of technologies. In their absence, the system defaults back to a square outlay."
   ]
  },
  {
   "attachments": {},
   "cell_type": "markdown",
   "metadata": {},
   "source": [
    "On the bright side, however, we can see that the shadow prices equal the unit vector; we should be reminded that $\\bm{p = i}$ because the given system was in monetary values."
   ]
  },
  {
   "cell_type": "code",
   "execution_count": 11,
   "metadata": {},
   "outputs": [
    {
     "name": "stdout",
     "output_type": "stream",
     "text": [
      "shadow_price.(c1) = [-1.0; -1.0; -1.0;;]\n"
     ]
    }
   ],
   "source": [
    "@show shadow_price.(c1);"
   ]
  },
  {
   "attachments": {},
   "cell_type": "markdown",
   "metadata": {},
   "source": [
    "Let us now model the dual explicitly and examine this in more detail:"
   ]
  },
  {
   "cell_type": "code",
   "execution_count": 12,
   "metadata": {},
   "outputs": [],
   "source": [
    "# Set up the model\n",
    "dual = Model(GLPK.Optimizer)\n",
    "\n",
    "# Define the optimisation model\n",
    "@variable(dual, p[1:size(sut.V,2)] >= 0)\n",
    "@objective(dual, Max, sum(p'*sut.e))\n",
    "@constraint(dual, c1d, (sut.C-sut.B)'*(p) .<= sut.S'*sut.pii);"
   ]
  },
  {
   "cell_type": "code",
   "execution_count": 13,
   "metadata": {},
   "outputs": [
    {
     "name": "stdout",
     "output_type": "stream",
     "text": [
      "termination_status(model) = MathOptInterface.OPTIMAL\n",
      "primal_status(model) = MathOptInterface.FEASIBLE_POINT\n",
      "dual_status(model) = MathOptInterface.FEASIBLE_POINT\n",
      "objective_value(model) = 124.0\n",
      "value.(p) = [1.0, 1.0, 1.0]\n",
      "shadow_price.(c1d) = [16.925829775953638; 124.96554750130262; 122.35070431547481; 0.0; 0.0;;]\n"
     ]
    }
   ],
   "source": [
    "# Run the model and show results\n",
    "optimize!(dual)\n",
    "model_solution(primal)\n",
    "@show value.(p)\n",
    "@show shadow_price.(c1d);"
   ]
  },
  {
   "attachments": {},
   "cell_type": "markdown",
   "metadata": {},
   "source": [
    "While the model has a feasible solution for which the objective value is equal to that one of the primal and where the shadow prices reflect the originally observed (i.e. imported from spreadsheet) total output of the primal, we see indeed that the modelled price vector is equal the unit vector. On the other hand, however, the shadow prices for the dual, indicating the total output of the system, equal the solution vector $g*$ resulting from the primal.\n",
    "\n",
    "Does that mean that the originally observed output vector $g$ is sub-optimal? No, as we can easily see when we calculate the dual's objective function and constraint separately with that vector:"
   ]
  },
  {
   "cell_type": "code",
   "execution_count": 14,
   "metadata": {},
   "outputs": [
    {
     "name": "stdout",
     "output_type": "stream",
     "text": [
      "The thus calculated objective value is: [124.0;;]\n",
      "And the LHS of the constraint: [51.0; 41.99999999999999; 31.000000000000014;;]\n",
      "And the same LHS with new prices: [51.00000000000001, 42.0, 31.0]\n"
     ]
    }
   ],
   "source": [
    "println(\"The thus calculated objective value is: \", sut.pii'*sut.S*sut.g)\n",
    "println(\"And the LHS of the constraint: \", (sut.C-sut.B)*sut.g)\n",
    "println(\"And the same LHS with new prices: \", (sut.C-sut.B)*value.(g_star))"
   ]
  },
  {
   "attachments": {},
   "cell_type": "markdown",
   "metadata": {},
   "source": [
    "With that, we see that a system consisting of more industries than commodities may have multiple alternate optimal solutions for its primal. That is, no unique solution for the output vector exists. The usefulness of the primal is hence limited in this case.\n",
    "\n",
    "Mirroring the case of ([c>i](./SU-RCOT_c+i-.ipynb)), the reason for this behaviour is, mathematically speaking, the column-wise linear dependence of the net output (coefficients) matrix; it is thus not of full rank. Economically, market actors would produce initially in such a way that products with the highest output receive the highest ones\n",
    "while other industries do not produce at all; in the present example, assuming that each industry is producing one primary product each next to potentially some secondary products, it is the primary products...\n",
    "\n",
    "We encounter the opposite issue when more commodities are present than industries ([c>i](./SU-RCOT_c+i-.ipynb)), resulting in row-wise linear dependence of the net output matrix. That is, the dual will then reflect the empirical base data whereas the primal yields a non-unique solution.\n",
    "\n",
    "In the following, we will concentrate on the primal."
   ]
  },
  {
   "cell_type": "markdown",
   "metadata": {},
   "source": [
    "**Absolute model formulation**\n",
    "\n",
    "Let us now model the primal in absolute form"
   ]
  },
  {
   "cell_type": "code",
   "execution_count": 15,
   "metadata": {},
   "outputs": [],
   "source": [
    "# Instantiate the model\n",
    "(@isdefined primal) && (primal = nothing; primal = Model(GLPK.Optimizer));"
   ]
  },
  {
   "cell_type": "code",
   "execution_count": 16,
   "metadata": {},
   "outputs": [],
   "source": [
    "# To set up our initial primal, we write:\n",
    "primal = Model(GLPK.Optimizer)\n",
    "\n",
    "# Define the optimisation model\n",
    "@variable(primal, z_star[1:size(V,1)] >= 0, base_name = \"z*\")\n",
    "@objective(primal, Min, sum(sut.pii'*sut.F*z_star))\n",
    "@constraint(primal, c1, (sut.V'-sut.U)*(z_star) .>= sut.e);"
   ]
  },
  {
   "cell_type": "code",
   "execution_count": 17,
   "metadata": {},
   "outputs": [
    {
     "name": "stdout",
     "output_type": "stream",
     "text": [
      "termination_status(model) = MathOptInterface.OPTIMAL\n",
      "primal_status(model) = MathOptInterface.FEASIBLE_POINT\n",
      "dual_status(model) = MathOptInterface.FEASIBLE_POINT\n",
      "objective_value(model) = 124.0\n",
      "value.(c1) = [51.0; 42.0; 31.0;;]\n",
      "value.(z_star) = [0.15818532500891247, 1.2251524264833586, 1.3903489126758504, 0.0, 0.0]\n"
     ]
    }
   ],
   "source": [
    "# Run the model and show results\n",
    "optimize!(primal)\n",
    "model_solution(primal)\n",
    "@show value.(c1)\n",
    "@show value.(z_star);"
   ]
  },
  {
   "cell_type": "markdown",
   "metadata": {},
   "source": [
    "Unsurprisingly, the absolute formulation yields the same result as the coefficient-based one above. That is, the objective value is the same and also the same industries are active. Multiplying the activity level by the original industry output gives the same modelled output as above."
   ]
  },
  {
   "cell_type": "code",
   "execution_count": 18,
   "metadata": {},
   "outputs": [
    {
     "data": {
      "text/plain": [
       "true"
      ]
     },
     "execution_count": 18,
     "metadata": {},
     "output_type": "execute_result"
    }
   ],
   "source": [
    "isapprox(value.(g_star), value.(z_star).*sut.g, rtol = 1e-10) "
   ]
  },
  {
   "cell_type": "markdown",
   "metadata": {},
   "source": [
    "## 2. Empirical system factor constraint: solution by LP\n",
    "...\n",
    "\n",
    "when factor constraints active, no such automatic choice occurs, \n",
    "but if no factor constraint active then a gradual shift towards a square solution occurs"
   ]
  },
  {
   "cell_type": "code",
   "execution_count": 19,
   "metadata": {},
   "outputs": [
    {
     "name": "stderr",
     "output_type": "stream",
     "text": [
      "\u001b[36m\u001b[1m┌ \u001b[22m\u001b[39m\u001b[36m\u001b[1mInfo: \u001b[22m\u001b[39mYou are setting up an SU-RCOT dataset. Elements of this dataset are now treated independently, \n",
      "\u001b[36m\u001b[1m└ \u001b[22m\u001b[39m            meaning that no recalculation whatsoever takes place when individual elements are changed.\n"
     ]
    }
   ],
   "source": [
    "su_rcot_data = RCOT_data.SU(sut);"
   ]
  },
  {
   "cell_type": "code",
   "execution_count": 20,
   "metadata": {},
   "outputs": [
    {
     "name": "stdout",
     "output_type": "stream",
     "text": [
      "termination_status(model) = MathOptInterface.OPTIMAL\n",
      "primal_status(model) = MathOptInterface.FEASIBLE_POINT\n",
      "dual_status(model) = MathOptInterface.FEASIBLE_POINT\n",
      "objective_value(model) = 123.99999999999999\n",
      "value.(var_con) = [0.9999999999999993, 1.0, 1.0000000000000002, 0.9999999999999996, 0.9999999999999988]\n",
      "value.(demand_con) = [51.0, 42.0, 31.0]\n",
      "value.(factor_con) = [27.499999999999993, 6.666666666666666, 8.148148148148147, 21.428571428571427]\n"
     ]
    }
   ],
   "source": [
    "# Run the primal SU-RCOT in its absolute form\n",
    "su_rcot_model = su_rcot(\"primal\", \"abs\", su_rcot_data);"
   ]
  },
  {
   "cell_type": "markdown",
   "metadata": {},
   "source": [
    "Let us lift the endowments of each factor by a smal percentage and see which industries are activated:"
   ]
  },
  {
   "cell_type": "code",
   "execution_count": 28,
   "metadata": {},
   "outputs": [
    {
     "data": {
      "text/plain": [
       "4×1 Matrix{Float64}:\n",
       " 27.499999999999996\n",
       "  6.666666666666666\n",
       "  8.148148148148147\n",
       " 21.428571428571427"
      ]
     },
     "execution_count": 28,
     "metadata": {},
     "output_type": "execute_result"
    }
   ],
   "source": [
    "su_rcot_data.f = sut.f"
   ]
  },
  {
   "cell_type": "code",
   "execution_count": 31,
   "metadata": {},
   "outputs": [
    {
     "data": {
      "text/plain": [
       "4×1 Matrix{Float64}:\n",
       " 29.163749999999997\n",
       "  7.069999999999999\n",
       "  8.641111111111112\n",
       " 22.725"
      ]
     },
     "execution_count": 31,
     "metadata": {},
     "output_type": "execute_result"
    }
   ],
   "source": [
    "su_rcot_data.f = su_rcot_data.f*1.05"
   ]
  },
  {
   "cell_type": "code",
   "execution_count": 32,
   "metadata": {},
   "outputs": [
    {
     "name": "stdout",
     "output_type": "stream",
     "text": [
      "termination_status(model) = MathOptInterface.OPTIMAL\n",
      "primal_status(model) = MathOptInterface.FEASIBLE_POINT\n",
      "dual_status(model) = MathOptInterface.FEASIBLE_POINT\n",
      "objective_value(model) = 123.99999999999999\n",
      "value.(var_con) = [0.2970079663940406, 1.2234173978690672, 1.2607000442865213, 0.0, 0.5566185493186068]\n",
      "value.(demand_con) = [51.0, 42.0, 31.0]\n",
      "value.(factor_con) = [24.38345811578551, 6.900524598514916, 8.213133965334693, 22.725]\n"
     ]
    }
   ],
   "source": [
    "# Run the primal SU-RCOT in its absolute form\n",
    "su_rcot_model = su_rcot(\"primal\", \"abs\", su_rcot_data);"
   ]
  },
  {
   "cell_type": "markdown",
   "metadata": {},
   "source": [
    "We see that a different set of industries is activated."
   ]
  },
  {
   "attachments": {},
   "cell_type": "markdown",
   "metadata": {},
   "source": [
    "Back to [table of contents](#toc)\n",
    "<a id='add_jp'></a>"
   ]
  },
  {
   "attachments": {},
   "cell_type": "markdown",
   "metadata": {},
   "source": [
    "## 3. Adding technology alternatives under factor constraints\n",
    "So far, we have only worked with the SUT system as imported and without considering factor constraints. Let us now add new technologies to it and see how substitution may or may not occur. We use the model in its absolute form."
   ]
  },
  {
   "attachments": {},
   "cell_type": "markdown",
   "metadata": {},
   "source": [
    "Back to [table of contents](#toc)\n",
    "<a id='add_jp_bp'></a>"
   ]
  },
  {
   "attachments": {},
   "cell_type": "markdown",
   "metadata": {},
   "source": [
    "### 3.1 Introducing an alternative technology"
   ]
  },
  {
   "attachments": {},
   "cell_type": "markdown",
   "metadata": {},
   "source": [
    "Let us first introduce an alternative to industry #i.3 (i.e. for producing commodity #c.1 as primary product), with no changed variables except the added technology."
   ]
  },
  {
   "cell_type": "code",
   "execution_count": 19,
   "metadata": {},
   "outputs": [
    {
     "name": "stderr",
     "output_type": "stream",
     "text": [
      "\u001b[36m\u001b[1m┌ \u001b[22m\u001b[39m\u001b[36m\u001b[1mInfo: \u001b[22m\u001b[39mYou are setting up an SU-RCOT dataset. Elements of this dataset are now treated independently, \n",
      "\u001b[36m\u001b[1m└ \u001b[22m\u001b[39m            meaning that no recalculation whatsoever takes place when individual elements are changed.\n"
     ]
    }
   ],
   "source": [
    "# start from fresh data\n",
    "su_rcot_data = RCOT_data.SU(sut);"
   ]
  },
  {
   "cell_type": "code",
   "execution_count": 20,
   "metadata": {},
   "outputs": [],
   "source": [
    "# Define supply and use of the additional technology\n",
    "V3_alt1 = [78 5 0]\n",
    "U3_alt1 = [2 12 48]'\n",
    "F3_alt1 = [10 0 1.1 2.5]';"
   ]
  },
  {
   "cell_type": "code",
   "execution_count": 21,
   "metadata": {},
   "outputs": [],
   "source": [
    "# Add the additional parameters to the copied SUT struct\n",
    "su_rcot_data.V = @views [su_rcot_data.V; V3_alt1]\n",
    "su_rcot_data.U = @views [su_rcot_data.U U3_alt1]\n",
    "su_rcot_data.F = @views [su_rcot_data.F F3_alt1];"
   ]
  },
  {
   "cell_type": "code",
   "execution_count": 22,
   "metadata": {},
   "outputs": [
    {
     "name": "stdout",
     "output_type": "stream",
     "text": [
      "termination_status(model) = MathOptInterface.OPTIMAL\n",
      "primal_status(model) = MathOptInterface.FEASIBLE_POINT\n",
      "dual_status(model) = MathOptInterface.FEASIBLE_POINT\n",
      "objective_value(model) = 123.16730999233869\n",
      "value.(var_con) = [0.0, 0.9886952858964855, 0.9551106838981691, 1.1370613780710617, 1.0200016155581022, 1.0675512918734902]\n",
      "value.(demand_con) = [51.0, 42.0, 31.0]\n",
      "value.(factor_con) = [27.499999999999996, 6.666666666666666, 8.010912180897126, 21.208498620912597]\n"
     ]
    }
   ],
   "source": [
    "# Run the primal SU-RCOT in its absolute form\n",
    "su_rcot_model = su_rcot(\"primal\", \"abs\", su_rcot_data);"
   ]
  },
  {
   "cell_type": "markdown",
   "metadata": {},
   "source": [
    "We can see that technology substitution occurs.\n",
    "\n",
    "Once we change the availability of factors or the final demand for commodities, yet again other technologies are activated. For example, let us first increase final demand for commodity #c.3."
   ]
  },
  {
   "cell_type": "code",
   "execution_count": 34,
   "metadata": {},
   "outputs": [
    {
     "data": {
      "text/plain": [
       "35"
      ]
     },
     "execution_count": 34,
     "metadata": {},
     "output_type": "execute_result"
    }
   ],
   "source": [
    "su_rcot_data.e[3] = 35"
   ]
  },
  {
   "cell_type": "code",
   "execution_count": 35,
   "metadata": {},
   "outputs": [
    {
     "name": "stdout",
     "output_type": "stream",
     "text": [
      "termination_status(model) = MathOptInterface.OPTIMAL\n",
      "primal_status(model) = MathOptInterface.FEASIBLE_POINT\n",
      "dual_status(model) = MathOptInterface.FEASIBLE_POINT\n",
      "objective_value(model) = 128.0\n",
      "value.(var_con) = [0.6454643903939872, 1.1313268403964185, 1.1667499453467858, 0.4494151518954526, 0.9206557232037282]\n",
      "value.(demand_con) = [51.0, 42.0, 35.0]\n",
      "value.(factor_con) = [26.608650920805463, 7.069999999999999, 8.479673664827201, 22.725]\n"
     ]
    }
   ],
   "source": [
    "# Run the primal SU-RCOT in its absolute form\n",
    "su_rcot_model = su_rcot(\"primal\", \"abs\", su_rcot_data);"
   ]
  },
  {
   "cell_type": "markdown",
   "metadata": {},
   "source": [
    "Let us now increase in addition the availability of factors #f.2 and #f.4."
   ]
  },
  {
   "cell_type": "code",
   "execution_count": null,
   "metadata": {},
   "outputs": [
    {
     "data": {
      "text/plain": [
       "35"
      ]
     },
     "metadata": {},
     "output_type": "display_data"
    }
   ],
   "source": [
    "su_rcot_data.e[3] = 35"
   ]
  },
  {
   "cell_type": "code",
   "execution_count": null,
   "metadata": {},
   "outputs": [
    {
     "name": "stdout",
     "output_type": "stream",
     "text": [
      "termination_status(model) = MathOptInterface.OPTIMAL\n",
      "primal_status(model) = MathOptInterface.FEASIBLE_POINT\n",
      "dual_status(model) = MathOptInterface.FEASIBLE_POINT\n",
      "objective_value(model) = 128.0\n",
      "value.(var_con) = [0.6454643903939872, 1.1313268403964185, 1.1667499453467858, 0.4494151518954526, 0.9206557232037282]\n",
      "value.(demand_con) = [51.0, 42.0, 35.0]\n",
      "value.(factor_con) = [26.608650920805463, 7.069999999999999, 8.479673664827201, 22.725]\n"
     ]
    }
   ],
   "source": [
    "# Run the primal SU-RCOT in its absolute form\n",
    "su_rcot_model = su_rcot(\"primal\", \"abs\", su_rcot_data);"
   ]
  },
  {
   "cell_type": "code",
   "execution_count": null,
   "metadata": {},
   "outputs": [],
   "source": []
  },
  {
   "attachments": {},
   "cell_type": "markdown",
   "metadata": {},
   "source": [
    "Back to [table of contents](#toc)\n",
    "<a id='add_jp_3mp_jp'></a>"
   ]
  },
  {
   "attachments": {},
   "cell_type": "markdown",
   "metadata": {},
   "source": [
    "### 4.3 Multiple alternatives for main-product production"
   ]
  },
  {
   "cell_type": "markdown",
   "metadata": {},
   "source": [
    "Let us now add yet two more alternatives for industry #i.3. The factor requirements as well as the increased final demand for #c.5 are kept as before. Let us moreover reduce the availability of factor #f.1 from 34.2 to 27.8."
   ]
  },
  {
   "cell_type": "code",
   "execution_count": 69,
   "metadata": {},
   "outputs": [],
   "source": [
    "# Add the additional parameters to the copied SUT struct\n",
    "V3_alt = [0 1 17 1 2; 0 0 15 0 4]\n",
    "U3_alt = [0 8 2 0 1; 1 9 4 0 0]'\n",
    "F3_alt = [0 1 1 6; 0 2 0 3]'\n",
    "\n",
    "sutt.V = @views [sutt.V; V3_alt]\n",
    "sutt.U = @views [sutt.U U3_alt]\n",
    "sutt.F = @views [sutt.F F3_alt]\n",
    "\n",
    "\n",
    "sutt.f[1] = 27.8;"
   ]
  },
  {
   "cell_type": "code",
   "execution_count": 70,
   "metadata": {},
   "outputs": [],
   "source": [
    "# Instantiate the model\n",
    "(@isdefined primal) && (primal = nothing; primal = Model(GLPK.Optimizer));"
   ]
  },
  {
   "cell_type": "code",
   "execution_count": 71,
   "metadata": {},
   "outputs": [],
   "source": [
    "# Define the optimisation model\n",
    "@variable(primal, z_star[1:size(sutt.V,1)] >= 0, base_name = \"z*\")\n",
    "@objective(primal, Min, sum(sutt.pii'*sutt.F*z_star))\n",
    "@constraint(primal, c1, (sutt.V'-sutt.U)*(z_star) .>= sutt.e)\n",
    "@constraint(primal, c2, sutt.F*z_star .<= sutt.f);"
   ]
  },
  {
   "cell_type": "code",
   "execution_count": 72,
   "metadata": {},
   "outputs": [
    {
     "name": "stdout",
     "output_type": "stream",
     "text": [
      "termination_status(model) = MathOptInterface.OPTIMAL\n",
      "primal_status(model) = MathOptInterface.FEASIBLE_POINT\n",
      "dual_status(model) = MathOptInterface.FEASIBLE_POINT\n",
      "objective_value(model) = 148.68280487943082\n",
      "value.(z_star) = [1.0088186690752972, 1.0232000185219157, 1.0674966067576475, 0.1129057310676433, 0.0, 0.17189310001971128]\n",
      "value.(c1) = [57.0; 79.0; 34.926672164627824; 4.0; 3.5;;]\n",
      "value.(c2) = [27.8; 15.020264988440424; 1.8715219152813098; 26.760353214183688;;]\n"
     ]
    }
   ],
   "source": [
    "# Run the model and show results\n",
    "optimize!(primal)\n",
    "model_solution(primal)\n",
    "@show value.(z_star)\n",
    "@show value.(c1)\n",
    "@show value.(c2);"
   ]
  },
  {
   "cell_type": "code",
   "execution_count": 73,
   "metadata": {},
   "outputs": [
    {
     "data": {
      "text/html": [
       "<div><div style = \"float: left;\"><span>9×7 DataFrame</span></div><div style = \"clear: both;\"></div></div><div class = \"data-frame\" style = \"overflow-x: scroll;\"><table class = \"data-frame\" style = \"margin-bottom: 6px;\"><thead><tr class = \"header\"><th class = \"rowNumber\" style = \"font-weight: bold; text-align: right;\">Row</th><th style = \"text-align: left;\">name</th><th style = \"text-align: left;\">value</th><th style = \"text-align: left;\">rhs</th><th style = \"text-align: left;\">slack</th><th style = \"text-align: left;\">shadow_price</th><th style = \"text-align: left;\">allowed_decrease</th><th style = \"text-align: left;\">allowed_increase</th></tr><tr class = \"subheader headerLastRow\"><th class = \"rowNumber\" style = \"font-weight: bold; text-align: right;\"></th><th title = \"String\" style = \"text-align: left;\">String</th><th title = \"Float64\" style = \"text-align: left;\">Float64</th><th title = \"Float64\" style = \"text-align: left;\">Float64</th><th title = \"Float64\" style = \"text-align: left;\">Float64</th><th title = \"Float64\" style = \"text-align: left;\">Float64</th><th title = \"Float64\" style = \"text-align: left;\">Float64</th><th title = \"Float64\" style = \"text-align: left;\">Float64</th></tr></thead><tbody><tr><td class = \"rowNumber\" style = \"font-weight: bold; text-align: right;\">1</td><td style = \"text-align: left;\">c1</td><td style = \"text-align: right;\">57.0</td><td style = \"text-align: right;\">57.0</td><td style = \"text-align: right;\">0.0</td><td style = \"text-align: right;\">-3.8004</td><td style = \"text-align: right;\">-1.58046</td><td style = \"text-align: right;\">1.38837</td></tr><tr><td class = \"rowNumber\" style = \"font-weight: bold; text-align: right;\">2</td><td style = \"text-align: left;\">c1</td><td style = \"text-align: right;\">79.0</td><td style = \"text-align: right;\">79.0</td><td style = \"text-align: right;\">0.0</td><td style = \"text-align: right;\">-4.6216</td><td style = \"text-align: right;\">-1.3886</td><td style = \"text-align: right;\">1.2095</td></tr><tr><td class = \"rowNumber\" style = \"font-weight: bold; text-align: right;\">3</td><td style = \"text-align: left;\">c1</td><td style = \"text-align: right;\">34.9267</td><td style = \"text-align: right;\">27.0</td><td style = \"text-align: right;\">-7.92667</td><td style = \"text-align: right;\">-0.0</td><td style = \"text-align: right;\">-Inf</td><td style = \"text-align: right;\">7.92667</td></tr><tr><td class = \"rowNumber\" style = \"font-weight: bold; text-align: right;\">4</td><td style = \"text-align: left;\">c1</td><td style = \"text-align: right;\">4.0</td><td style = \"text-align: right;\">4.0</td><td style = \"text-align: right;\">0.0</td><td style = \"text-align: right;\">-6.9747</td><td style = \"text-align: right;\">-1.06783</td><td style = \"text-align: right;\">1.28671</td></tr><tr><td class = \"rowNumber\" style = \"font-weight: bold; text-align: right;\">5</td><td style = \"text-align: left;\">c1</td><td style = \"text-align: right;\">3.5</td><td style = \"text-align: right;\">3.5</td><td style = \"text-align: right;\">0.0</td><td style = \"text-align: right;\">-14.7237</td><td style = \"text-align: right;\">-0.562267</td><td style = \"text-align: right;\">0.42194</td></tr><tr><td class = \"rowNumber\" style = \"font-weight: bold; text-align: right;\">6</td><td style = \"text-align: left;\">c2</td><td style = \"text-align: right;\">27.8</td><td style = \"text-align: right;\">27.8</td><td style = \"text-align: right;\">0.0</td><td style = \"text-align: right;\">-18.4345</td><td style = \"text-align: right;\">-0.248369</td><td style = \"text-align: right;\">0.279814</td></tr><tr><td class = \"rowNumber\" style = \"font-weight: bold; text-align: right;\">7</td><td style = \"text-align: left;\">c2</td><td style = \"text-align: right;\">15.0203</td><td style = \"text-align: right;\">16.1111</td><td style = \"text-align: right;\">1.09085</td><td style = \"text-align: right;\">0.0</td><td style = \"text-align: right;\">-1.09085</td><td style = \"text-align: right;\">Inf</td></tr><tr><td class = \"rowNumber\" style = \"font-weight: bold; text-align: right;\">8</td><td style = \"text-align: left;\">c2</td><td style = \"text-align: right;\">1.87152</td><td style = \"text-align: right;\">2.22222</td><td style = \"text-align: right;\">0.3507</td><td style = \"text-align: right;\">0.0</td><td style = \"text-align: right;\">-0.3507</td><td style = \"text-align: right;\">Inf</td></tr><tr><td class = \"rowNumber\" style = \"font-weight: bold; text-align: right;\">9</td><td style = \"text-align: left;\">c2</td><td style = \"text-align: right;\">26.7604</td><td style = \"text-align: right;\">30.4762</td><td style = \"text-align: right;\">3.71584</td><td style = \"text-align: right;\">0.0</td><td style = \"text-align: right;\">-3.71584</td><td style = \"text-align: right;\">Inf</td></tr></tbody></table></div>"
      ],
      "text/latex": [
       "\\begin{tabular}{r|ccccccc}\n",
       "\t& name & value & rhs & slack & shadow\\_price & allowed\\_decrease & allowed\\_increase\\\\\n",
       "\t\\hline\n",
       "\t& String & Float64 & Float64 & Float64 & Float64 & Float64 & Float64\\\\\n",
       "\t\\hline\n",
       "\t1 & c1 & 57.0 & 57.0 & 0.0 & -3.8004 & -1.58046 & 1.38837 \\\\\n",
       "\t2 & c1 & 79.0 & 79.0 & 0.0 & -4.6216 & -1.3886 & 1.2095 \\\\\n",
       "\t3 & c1 & 34.9267 & 27.0 & -7.92667 & -0.0 & -Inf & 7.92667 \\\\\n",
       "\t4 & c1 & 4.0 & 4.0 & 0.0 & -6.9747 & -1.06783 & 1.28671 \\\\\n",
       "\t5 & c1 & 3.5 & 3.5 & 0.0 & -14.7237 & -0.562267 & 0.42194 \\\\\n",
       "\t6 & c2 & 27.8 & 27.8 & 0.0 & -18.4345 & -0.248369 & 0.279814 \\\\\n",
       "\t7 & c2 & 15.0203 & 16.1111 & 1.09085 & 0.0 & -1.09085 & Inf \\\\\n",
       "\t8 & c2 & 1.87152 & 2.22222 & 0.3507 & 0.0 & -0.3507 & Inf \\\\\n",
       "\t9 & c2 & 26.7604 & 30.4762 & 3.71584 & 0.0 & -3.71584 & Inf \\\\\n",
       "\\end{tabular}\n"
      ],
      "text/plain": [
       "\u001b[1m9×7 DataFrame\u001b[0m\n",
       "\u001b[1m Row \u001b[0m│\u001b[1m name   \u001b[0m\u001b[1m value    \u001b[0m\u001b[1m rhs      \u001b[0m\u001b[1m slack    \u001b[0m\u001b[1m shadow_price \u001b[0m\u001b[1m allowed_decrease \u001b[0m\u001b[1m a\u001b[0m ⋯\n",
       "     │\u001b[90m String \u001b[0m\u001b[90m Float64  \u001b[0m\u001b[90m Float64  \u001b[0m\u001b[90m Float64  \u001b[0m\u001b[90m Float64      \u001b[0m\u001b[90m Float64          \u001b[0m\u001b[90m F\u001b[0m ⋯\n",
       "─────┼──────────────────────────────────────────────────────────────────────────\n",
       "   1 │ c1      57.0      57.0       0.0           -3.8004         -1.58046     ⋯\n",
       "   2 │ c1      79.0      79.0       0.0           -4.6216         -1.3886\n",
       "   3 │ c1      34.9267   27.0      -7.92667       -0.0          -Inf\n",
       "   4 │ c1       4.0       4.0       0.0           -6.9747         -1.06783\n",
       "   5 │ c1       3.5       3.5       0.0          -14.7237         -0.562267    ⋯\n",
       "   6 │ c2      27.8      27.8       0.0          -18.4345         -0.248369\n",
       "   7 │ c2      15.0203   16.1111    1.09085        0.0            -1.09085\n",
       "   8 │ c2       1.87152   2.22222   0.3507         0.0            -0.3507\n",
       "   9 │ c2      26.7604   30.4762    3.71584        0.0            -3.71584     ⋯\n",
       "\u001b[36m                                                                1 column omitted\u001b[0m"
      ]
     },
     "execution_count": 73,
     "metadata": {},
     "output_type": "execute_result"
    }
   ],
   "source": [
    "sensitivities(primal,type=\"constraint\")"
   ]
  },
  {
   "cell_type": "markdown",
   "metadata": {},
   "source": [
    "We can see now that the system's production (in particular industry #i.3) is complemented by technologies #t.4 and #t.6. The factor constraint for #f.1 is active and a small commodity surplus for #c.3 is present. With the given parameterisation, converting the supply-demand inequality into an equality would render the system infeasible."
   ]
  },
  {
   "attachments": {},
   "cell_type": "markdown",
   "metadata": {},
   "source": [
    "Back to [table of contents](#toc)\n",
    "<a id='add_jp_nmp_sp-jp'></a>"
   ]
  },
  {
   "attachments": {},
   "cell_type": "markdown",
   "metadata": {},
   "source": [
    "### 4.4 Multiple alternatives for multiple technologies"
   ]
  },
  {
   "cell_type": "markdown",
   "metadata": {},
   "source": [
    "We have until now only considered technologies that have their primary output in common with only one dominant technology. Let us now introduce multiple alternatives for multiple industries. These new alternatives may produce in addition to a primary product also a secondary product. We continue from the parameterisation of the previous example."
   ]
  },
  {
   "cell_type": "code",
   "execution_count": 74,
   "metadata": {},
   "outputs": [],
   "source": [
    "# Alternatives for #i.2\n",
    "V2_alt = [0 95 0 0 0; 0 95 0 0 0; 10 60 0 0 0]\n",
    "U2_alt = [21 7 4 1 0; 14 0 3 1 0; 18 2 16 0 0]'\n",
    "F2_alt = [13 6 0.6 3; 12 2 7 0; 9 1 0 5]'\n",
    "# Alternatives for #i.3\n",
    "V3x_alt = [0 0 0 0 10]\n",
    "U3x_alt = [0 3 1 0 0]'\n",
    "F3x_alt = [1.2 3.6 0 4.2]'\n",
    "# Add Alternatives\n",
    "sutt.V = @views [sutt.V[1:2, :]; V2_alt; sutt.V[3:end, :]; V3x_alt]\n",
    "sutt.U = @views [sutt.U[:, 1:2] U2_alt sutt.U[:, 3:end] U3x_alt]\n",
    "sutt.F = @views [sutt.F[:, 1:2] F2_alt sutt.F[:, 3:end] F3x_alt];"
   ]
  },
  {
   "cell_type": "code",
   "execution_count": 75,
   "metadata": {},
   "outputs": [],
   "source": [
    "# Instantiate the model\n",
    "(@isdefined primal) && (primal = nothing; primal = Model(GLPK.Optimizer));"
   ]
  },
  {
   "cell_type": "code",
   "execution_count": 76,
   "metadata": {},
   "outputs": [],
   "source": [
    "# Define the optimisation model\n",
    "@variable(primal, z_star[1:size(sutt.V,1)] >= 0, base_name = \"z*\")\n",
    "@objective(primal, Min, sum(sutt.pii'*sutt.F*z_star))\n",
    "@constraint(primal, c1, (sutt.V'-sutt.U)*(z_star) .>= sutt.e)\n",
    "@constraint(primal, c2, sutt.F*z_star .<= sutt.f);"
   ]
  },
  {
   "cell_type": "code",
   "execution_count": 77,
   "metadata": {},
   "outputs": [
    {
     "name": "stdout",
     "output_type": "stream",
     "text": [
      "termination_status(model) = MathOptInterface.OPTIMAL\n",
      "primal_status(model) = MathOptInterface.FEASIBLE_POINT\n",
      "dual_status(model) = MathOptInterface.FEASIBLE_POINT\n",
      "objective_value(model) = 135.88524011731593\n",
      "value.(z_star) = [0.9681764496400506, 0.0, 0.9263137410518911, 0.07153767207959473, 0.0, 0.9835342928723738, 0.0, 0.0, 0.0, 0.1532931414255253]\n",
      "value.(c1) = [57.0; 79.0; 27.0; 6.901138616312153; 3.5;;]\n",
      "value.(c2) = [26.63895276330106; 13.444920789690071; 2.2222222222222223; 23.579419980224017;;]\n"
     ]
    }
   ],
   "source": [
    "# Run the model and show results\n",
    "optimize!(primal)\n",
    "model_solution(primal)\n",
    "@show value.(z_star)\n",
    "@show value.(c1)\n",
    "@show value.(c2);"
   ]
  },
  {
   "cell_type": "markdown",
   "metadata": {},
   "source": [
    "Compare this result to when we prevent a commodity surplus by converting the supply-demand constraint into an inequality:"
   ]
  },
  {
   "cell_type": "code",
   "execution_count": 78,
   "metadata": {},
   "outputs": [],
   "source": [
    "# Instantiate the model\n",
    "(@isdefined primal) && (primal = nothing; primal = Model(GLPK.Optimizer));"
   ]
  },
  {
   "cell_type": "code",
   "execution_count": 79,
   "metadata": {},
   "outputs": [],
   "source": [
    "# Define the optimisation model\n",
    "@variable(primal, z_star[1:size(sutt.V,1)] >= 0, base_name = \"z*\")\n",
    "@objective(primal, Min, sum(sutt.pii'*sutt.F*z_star))\n",
    "@constraint(primal, c1, (sutt.V'-sutt.U)*(z_star) .== sutt.e)\n",
    "@constraint(primal, c2, sutt.F*z_star .<= sutt.f);"
   ]
  },
  {
   "cell_type": "code",
   "execution_count": 80,
   "metadata": {},
   "outputs": [
    {
     "name": "stdout",
     "output_type": "stream",
     "text": [
      "termination_status(model) = MathOptInterface.OPTIMAL\n",
      "primal_status(model) = MathOptInterface.FEASIBLE_POINT\n",
      "dual_status(model) = MathOptInterface.FEASIBLE_POINT\n",
      "objective_value(model) = 137.83260140853824\n",
      "value.(z_star) = [1.0002004052778635, 0.7760595503236308, 0.17438970101302786, 0.07838211320108414, 0.0, 0.9357410826064362, 0.0, 0.0, 0.40712945869678197, 0.0]\n",
      "value.(c1) = [57.0; 79.0; 27.0; 4.0; 3.5;;]\n",
      "value.(c2) = [27.557917816454207; 13.276850332125395; 2.2222222222222223; 24.269732777686542;;]\n"
     ]
    }
   ],
   "source": [
    "# Run the model and show results\n",
    "optimize!(primal)\n",
    "model_solution(primal)\n",
    "@show value.(z_star)\n",
    "@show value.(c1)\n",
    "@show value.(c2);"
   ]
  },
  {
   "cell_type": "markdown",
   "metadata": {},
   "source": [
    "We see that a different set of technologies is activated depending on if a commodity surplus is permitted or not (#t.(1, 2, 3, 4, 6, 9) vs #t.(1, 3, 4, 6, 10))."
   ]
  },
  {
   "attachments": {},
   "cell_type": "markdown",
   "metadata": {},
   "source": [
    "Back to [table of contents](#toc)\n",
    "<a id='add_sp'></a>"
   ]
  },
  {
   "attachments": {},
   "cell_type": "markdown",
   "metadata": {},
   "source": [
    "## 5. New alternatives for single production\n",
    "In contrast to the two RCOT models in coefficient and absolute form above, the model by Duchine & Levine (2011) was formulated in coefficent form for single production. That, is by-products are reallocated. While this can be consistently done via any construct for the base SUT, it remains a challenge to keep this consistency when adding new technologies. To illustrate the challenge of adding new technologies based on observed supply-use information, we start from the underlying SUT, apply a construct of choice (here, ITC which we have computed earlier already), try to reallocate the by-products of the alternative technologies (and adjust all other system variables accordingly), and then solve the IO-RCOT model.\n",
    "\n",
    "This is easier said than done because secondary products must be reallocated. Moreover, the data for the additional technologies must be converted from absolute to coefficient form."
   ]
  },
  {
   "cell_type": "code",
   "execution_count": 81,
   "metadata": {},
   "outputs": [
    {
     "data": {
      "text/plain": [
       "Main.Constructs.initialise([88.0; 95.0; … ; 10.0; 10.0;;], [57.0; 79.0; … ; 4.0; 2.0;;], [8.0 23.0 … 0.0 0.0; 0.0 6.999999999999999 … 0.9375 0.9375; … ; 2.0 4.0 … 0.0 0.0; 0.0 0.0 … 0.8333333333333333 0.8333333333333333], [0.09090909090909091 0.24210526315789474 … 0.0 0.0; 0.0 0.07368421052631578 … 0.09375 0.09375; … ; 0.022727272727272728 0.042105263157894736 … 0.0 0.0; 0.0 0.0 … 0.08333333333333333 0.08333333333333333], [1.1163754045307444 0.2947572815533981 … 0.032750809061488674 0.032750809061488674; 0.061488673139158574 1.1067961165048543 … 0.12297734627831716 0.12297734627831715; … ; 0.027961165048543693 0.053300970873786414 … 1.0059223300970874 0.00592233009708738; 0.05062927004674577 0.022437971952535062 … 0.10125854009349156 1.1012585400934916], [14.0 13.333333333333336 … 0.0 0.0; 1.3333333333333335 5.555555555555556 … 0.625 0.625; 0.0 0.5925925925925926 … 0.12345679012345677 0.12345679012345677; 4.9523809523809526 3.8095238095238098 … 1.6269841269841268 1.6269841269841268], [0.19886363636363638 0.1754385964912281 … 0.0 0.0; 0.01893939393939394 0.07309941520467836 … 0.078125 0.078125; 0.0 0.007797270955165692 … 0.015432098765432098 0.015432098765432098; 0.07034632034632034 0.05012531328320802 … 0.20337301587301584 0.20337301587301584], [27.333333333333336; 12.88888888888889; 1.7777777777777775; 24.38095238095238;;], #undef)"
      ]
     },
     "execution_count": 81,
     "metadata": {},
     "output_type": "execute_result"
    }
   ],
   "source": [
    "# Copy the underlying SUT\n",
    "sut_io = deepcopy(sut)\n",
    "# Let us adjust the factor requirements as we did earlier for SU-RCOT\n",
    "sut_io.F = sut_io.F.*0.8\n",
    "# And set up the ITC model\n",
    "itc = Constructs.ITC(sut_io);"
   ]
  },
  {
   "cell_type": "code",
   "execution_count": 93,
   "metadata": {},
   "outputs": [
    {
     "data": {
      "text/plain": [
       "5×3 Matrix{Float64}:\n",
       " 0.0909091  0.242105   0.0\n",
       " 0.0        0.0736842  0.09375\n",
       " 0.431818   0.0421053  0.0729167\n",
       " 0.0227273  0.0421053  0.0\n",
       " 0.0        0.0        0.0833333"
      ]
     },
     "execution_count": 93,
     "metadata": {},
     "output_type": "execute_result"
    }
   ],
   "source": [
    "sut_io.B"
   ]
  },
  {
   "cell_type": "code",
   "execution_count": 97,
   "metadata": {},
   "outputs": [
    {
     "data": {
      "text/plain": [
       "5×5 Matrix{Float64}:\n",
       " 0.0909091  0.242105   0.0        0.0        0.0\n",
       " 0.0        0.0736842  0.09375    0.09375    0.09375\n",
       " 0.431818   0.0421053  0.0729167  0.0729167  0.0729167\n",
       " 0.0227273  0.0421053  0.0        0.0        0.0\n",
       " 0.0        0.0        0.0833333  0.0833333  0.0833333"
      ]
     },
     "execution_count": 97,
     "metadata": {},
     "output_type": "execute_result"
    }
   ],
   "source": [
    "itc.A"
   ]
  },
  {
   "cell_type": "code",
   "execution_count": 95,
   "metadata": {},
   "outputs": [
    {
     "data": {
      "text/plain": [
       "5×1 Matrix{Float64}:\n",
       " 88.0\n",
       " 95.0\n",
       " 76.0\n",
       " 10.0\n",
       " 10.0"
      ]
     },
     "execution_count": 95,
     "metadata": {},
     "output_type": "execute_result"
    }
   ],
   "source": [
    "itc.x"
   ]
  },
  {
   "cell_type": "markdown",
   "metadata": {},
   "source": [
    "First, we want to add an alternative technology for the production of #c.5. This was originally only a secondary product of #i.3 in the SUT. Since our data is given in monetary units, we may even try using the total industry output #g.3 to derive the input coefficients for the new technology. Now that we applied the ITC, however, and thus have a (5x5) commodity-by-commodity matrix, we effectively cannot use the supply-use information of the new technology..."
   ]
  },
  {
   "cell_type": "code",
   "execution_count": null,
   "metadata": {},
   "outputs": [],
   "source": [
    "# add technology to A, S matrix and modify I."
   ]
  },
  {
   "cell_type": "code",
   "execution_count": null,
   "metadata": {},
   "outputs": [],
   "source": [
    "# Instantiate the model\n",
    "(@isdefined primal) && (primal = nothing; primal = Model(GLPK.Optimizer));"
   ]
  },
  {
   "cell_type": "code",
   "execution_count": null,
   "metadata": {},
   "outputs": [],
   "source": [
    "# Define the optimisation model\n",
    "@variable(primal, x_star[1:size(itc.A,2)] >= 0, base_name = \"x*\")\n",
    "@objective(primal, Min, sum(sutt.pii'*itc.R*x_star))\n",
    "@constraint(primal, c1, (I_mod-itc.A)*(x_star) .>= itc.y)\n",
    "@constraint(primal, c2, itc.R*x_star .<= itc.f)\n",
    "\n",
    "# Print the model\n",
    "latex_formulation(dual)"
   ]
  },
  {
   "cell_type": "code",
   "execution_count": null,
   "metadata": {},
   "outputs": [
    {
     "name": "stdout",
     "output_type": "stream",
     "text": [
      "termination_status(primal) = MathOptInterface.INFEASIBLE\n",
      "primal_status(primal) = MathOptInterface.NO_SOLUTION\n",
      "dual_status(primal) = MathOptInterface.INFEASIBILITY_CERTIFICATE\n",
      "objective_value(primal) = 228.25426136363643\n",
      "value.(z_star) = [1.0220525568181822, 1.0767045454545456, 1.7500000000000004, 0.0]\n",
      "value.(c1) = [57.0; 79.0; 77.60518465909092; 11.149076704545458; 3.5;;]\n",
      "value.(c2) = [35.830995501893945; 22.305535827020208; 3.3901515151515156; 45.62082318722943;;]\n"
     ]
    }
   ],
   "source": [
    "# Run the model and show results\n",
    "optimize!(primal)\n",
    "model_solution(primal)\n",
    "@show value.(z_star)\n",
    "@show value.(c1)\n",
    "@show value.(c2);"
   ]
  },
  {
   "cell_type": "code",
   "execution_count": null,
   "metadata": {},
   "outputs": [],
   "source": []
  },
  {
   "cell_type": "markdown",
   "metadata": {},
   "source": [
    "Back to [table of contents](#toc)"
   ]
  },
  {
   "cell_type": "markdown",
   "metadata": {},
   "source": []
  }
 ],
 "metadata": {
  "kernelspec": {
   "display_name": "Julia opt 1.9.0",
   "language": "julia",
   "name": "julia-opt-1.9"
  },
  "language_info": {
   "file_extension": ".jl",
   "mimetype": "application/julia",
   "name": "julia",
   "version": "1.9.0"
  },
  "orig_nbformat": 4
 },
 "nbformat": 4,
 "nbformat_minor": 2
}
